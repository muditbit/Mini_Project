{
  "nbformat": 4,
  "nbformat_minor": 0,
  "metadata": {
    "colab": {
      "name": "MiniProject.ipynb",
      "provenance": [],
      "collapsed_sections": [],
      "toc_visible": true,
      "mount_file_id": "1YxoQC0WAHdxbU83mjx44ANtljiv1nL9C",
      "authorship_tag": "ABX9TyMFBm35y1TnzBGk8lqj2pby",
      "include_colab_link": true
    },
    "kernelspec": {
      "display_name": "Python 3",
      "name": "python3"
    },
    "language_info": {
      "name": "python"
    }
  },
  "cells": [
    {
      "cell_type": "markdown",
      "metadata": {
        "id": "view-in-github",
        "colab_type": "text"
      },
      "source": [
        "<a href=\"https://colab.research.google.com/github/muditbit/img_classifier_SVM_or_XGBoost/blob/master/MinorProject.ipynb\" target=\"_parent\"><img src=\"https://colab.research.google.com/assets/colab-badge.svg\" alt=\"Open In Colab\"/></a>"
      ]
    },
    {
      "cell_type": "code",
      "metadata": {
        "id": "pZ1svnkqEkuY"
      },
      "source": [
        "import numpy as np\n",
        "import pandas as pd\n",
        "import matplotlib.pyplot as plt\n",
        "import sklearn\n",
        "import os \n",
        "from skimage.io import imread\n",
        "from skimage.transform import resize"
      ],
      "execution_count": 1,
      "outputs": []
    },
    {
      "cell_type": "code",
      "metadata": {
        "colab": {
          "base_uri": "https://localhost:8080/"
        },
        "id": "AuQ2CVfKGybh",
        "outputId": "be88b068-49d8-462f-a89b-6d981e060246"
      },
      "source": [
        "!pip install bing-image-downloader\n",
        "\n"
      ],
      "execution_count": 2,
      "outputs": [
        {
          "output_type": "stream",
          "text": [
            "Collecting bing-image-downloader\n",
            "  Downloading https://files.pythonhosted.org/packages/0d/bf/537a61030b84ae4cd5022d5c7b014fd9bc3ce7c02358919153a6658a61d3/bing_image_downloader-1.0.4-py3-none-any.whl\n",
            "Installing collected packages: bing-image-downloader\n",
            "Successfully installed bing-image-downloader-1.0.4\n"
          ],
          "name": "stdout"
        }
      ]
    },
    {
      "cell_type": "code",
      "metadata": {
        "id": "NmYj8aMg2URR"
      },
      "source": [
        "!mkdir images"
      ],
      "execution_count": 3,
      "outputs": []
    },
    {
      "cell_type": "code",
      "metadata": {
        "colab": {
          "base_uri": "https://localhost:8080/"
        },
        "id": "KFyzvGFZE1nf",
        "outputId": "3e1bbe51-3a87-424f-85b3-5f10ad087913"
      },
      "source": [
        "from bing_image_downloader import downloader\n",
        "downloader.download(\"Dog\",limit=30,output_dir = 'images',\n",
        "                    adult_filter_off=True)"
      ],
      "execution_count": 4,
      "outputs": [
        {
          "output_type": "stream",
          "text": [
            "\n",
            "\n",
            "[!!]Indexing page: 1\n",
            "\n",
            "[%] Indexed 10 Images on Page 1.\n",
            "\n",
            "===============================================\n",
            "\n",
            "[%] Downloading Image #1 from http://www.viralnovelty.net/wp-content/uploads/2014/10/animal-family-portraits-14__880.jpg\n",
            "[%] File Downloaded !\n",
            "\n",
            "[%] Downloading Image #2 from https://www.top13.net/wp-content/uploads/2015/11/dog-pictures-taken-at-the-right-time-4.jpg\n",
            "[%] File Downloaded !\n",
            "\n",
            "[%] Downloading Image #3 from https://hative.com/wp-content/uploads/2014/10/cool-pet-costumes/8-cool-pet-costumes.jpg\n",
            "[%] File Downloaded !\n",
            "\n",
            "[%] Downloading Image #4 from https://www.animals-zone.com/wp-content/uploads/2014/04/laughing-dog.jpg\n",
            "[%] File Downloaded !\n",
            "\n",
            "[%] Downloading Image #5 from https://wanna-joke.com/wp-content/uploads/2014/12/funny-dog-standing-kitchen-woman-window.jpg\n",
            "[%] File Downloaded !\n",
            "\n",
            "[%] Downloading Image #6 from https://www.germanshepherds.com/forum/attachments/general-puppy-stuff/456690d1509727452-car-ride-chillin-4fb4a772-8efd-4909-a754-44962ea174f3_1509727451754.jpg\n",
            "[%] File Downloaded !\n",
            "\n",
            "[%] Downloading Image #7 from https://buzzsharer.com/wp-content/uploads/2015/06/funny-goldendoodles-cat.jpg\n",
            "[%] File Downloaded !\n",
            "\n",
            "[%] Downloading Image #8 from http://www.viraltrix.com/wp-content/uploads/2015/10/senorito-gato.jpg\n",
            "[%] File Downloaded !\n",
            "\n",
            "[%] Downloading Image #9 from https://www.laguiadelvaron.com/wp-content/uploads/2015/08/i.imgur_.com-kIIlDXA-563x750.jpg\n",
            "[%] File Downloaded !\n",
            "\n",
            "[%] Downloading Image #10 from http://wanna-joke.com/wp-content/uploads/2014/04/funny-picture-girl-car-dog-scared.jpg\n",
            "[%] File Downloaded !\n",
            "\n",
            "\n",
            "\n",
            "[!!]Indexing page: 2\n",
            "\n",
            "[%] Indexed 12 Images on Page 2.\n",
            "\n",
            "===============================================\n",
            "\n",
            "[%] Downloading Image #11 from http://www.easypetmd.com/sites/default/files/German Shepherd Dog.jpg (6).jpeg\n",
            "[!] Issue getting: http://www.easypetmd.com/sites/default/files/German Shepherd Dog.jpg (6).jpeg\n",
            "[!] Error:: URL can't contain control characters. '/sites/default/files/German Shepherd Dog.jpg (6).jpeg' (found at least ' ')\n",
            "[%] Downloading Image #11 from http://tranquilmonkey.com/wp-content/uploads/2014/07/funny-underwater-dog-photos-6.jpg\n",
            "[%] File Downloaded !\n",
            "\n",
            "[%] Downloading Image #12 from https://www.doseoffunny.com/wp-content/uploads/2014/05/funny-pun-husky-meme-pupsicle.jpg\n",
            "[%] File Downloaded !\n",
            "\n",
            "[%] Downloading Image #13 from https://www.newslinq.com/wp-content/uploads/2016/08/cutest-puppies-in-the-world-10.jpg\n",
            "[%] File Downloaded !\n",
            "\n",
            "[%] Downloading Image #14 from https://www.gravetics.com/wp-content/uploads/2017/07/Dalmatian-Firefighter.jpg\n",
            "[%] File Downloaded !\n",
            "\n",
            "[%] Downloading Image #15 from http://moderndogmagazine.com/sites/default/files/images/uploads/smilingdogs_ziva.jpg\n",
            "[%] File Downloaded !\n",
            "\n",
            "[%] Downloading Image #16 from https://www.recreoviral.com/wp-content/uploads/2015/01/growing-up-sucks-cute-dogs-010-funny-bits-562x750.jpg\n",
            "[%] File Downloaded !\n",
            "\n",
            "[%] Downloading Image #17 from http://www.okchicas.com/wp-content/uploads/2015/02/Los-perros-más-pequeños-del-mundo-21.jpg\n",
            "[!] Issue getting: http://www.okchicas.com/wp-content/uploads/2015/02/Los-perros-más-pequeños-del-mundo-21.jpg\n",
            "[!] Error:: 'ascii' codec can't encode character '\\xe1' in position 44: ordinal not in range(128)\n",
            "[%] Downloading Image #17 from https://www.barnorama.com/wp-content/uploads/2019/03/service_dog_memes_21.jpg\n",
            "[%] File Downloaded !\n",
            "\n",
            "[%] Downloading Image #18 from https://ww1.prweb.com/prfiles/2005/08/05/270032/ISSBD.jpg\n",
            "[%] File Downloaded !\n",
            "\n",
            "[%] Downloading Image #19 from http://www.newslinq.com/wp-content/uploads/2014/11/23934.jpg\n",
            "[%] File Downloaded !\n",
            "\n",
            "[%] Downloading Image #20 from https://www.hdwallpapers.in/download/wolf_predator_photoshop_art_4k_hd-1920x1080.jpg\n",
            "[%] File Downloaded !\n",
            "\n",
            "\n",
            "\n",
            "[!!]Indexing page: 3\n",
            "\n",
            "[%] Indexed 11 Images on Page 3.\n",
            "\n",
            "===============================================\n",
            "\n",
            "[%] Downloading Image #21 from https://www.newslinq.com/wp-content/uploads/2016/08/cutest-puppies-in-the-world-10.jpg\n",
            "[%] File Downloaded !\n",
            "\n",
            "[%] Downloading Image #22 from http://moderndogmagazine.com/sites/default/files/images/uploads/smilingdogs_ziva.jpg\n",
            "[%] File Downloaded !\n",
            "\n",
            "[%] Downloading Image #23 from https://www.doseoffunny.com/wp-content/uploads/2014/05/funny-pun-husky-meme-pupsicle.jpg\n",
            "[%] File Downloaded !\n",
            "\n",
            "[%] Downloading Image #24 from http://www.okchicas.com/wp-content/uploads/2015/02/Los-perros-más-pequeños-del-mundo-21.jpg\n",
            "[!] Issue getting: http://www.okchicas.com/wp-content/uploads/2015/02/Los-perros-más-pequeños-del-mundo-21.jpg\n",
            "[!] Error:: 'ascii' codec can't encode character '\\xe1' in position 44: ordinal not in range(128)\n",
            "[%] Downloading Image #24 from https://www.recreoviral.com/wp-content/uploads/2015/01/growing-up-sucks-cute-dogs-010-funny-bits-562x750.jpg\n",
            "[%] File Downloaded !\n",
            "\n",
            "[%] Downloading Image #25 from https://www.gravetics.com/wp-content/uploads/2017/07/Dalmatian-Firefighter.jpg\n",
            "[%] File Downloaded !\n",
            "\n",
            "[%] Downloading Image #26 from https://ww1.prweb.com/prfiles/2005/08/05/270032/ISSBD.jpg\n",
            "[%] File Downloaded !\n",
            "\n",
            "[%] Downloading Image #27 from https://www.barnorama.com/wp-content/uploads/2019/03/service_dog_memes_21.jpg\n",
            "[%] File Downloaded !\n",
            "\n",
            "[%] Downloading Image #28 from http://tranquilmonkey.com/wp-content/uploads/2014/07/funny-underwater-dog-photos-6.jpg\n",
            "[%] File Downloaded !\n",
            "\n",
            "[%] Downloading Image #29 from http://www.newslinq.com/wp-content/uploads/2014/11/23934.jpg\n",
            "[%] File Downloaded !\n",
            "\n",
            "[%] Downloading Image #30 from https://www.hdwallpapers.in/download/wolf_predator_photoshop_art_4k_hd-1920x1080.jpg\n",
            "[%] File Downloaded !\n",
            "\n"
          ],
          "name": "stdout"
        }
      ]
    },
    {
      "cell_type": "code",
      "metadata": {
        "colab": {
          "base_uri": "https://localhost:8080/"
        },
        "id": "EtyXoMuRHoGk",
        "outputId": "8a9aebaf-b662-402b-e27e-de484f16066d"
      },
      "source": [
        "downloader.download(\"Cat\",limit=30,output_dir = 'images',\n",
        "                    adult_filter_off=True)"
      ],
      "execution_count": 5,
      "outputs": [
        {
          "output_type": "stream",
          "text": [
            "\n",
            "\n",
            "[!!]Indexing page: 1\n",
            "\n",
            "[%] Indexed 10 Images on Page 1.\n",
            "\n",
            "===============================================\n",
            "\n",
            "[%] Downloading Image #1 from http://www.top13.net/wp-content/uploads/2015/12/huge-maine-coon-cats-11.jpg\n",
            "[%] File Downloaded !\n",
            "\n",
            "[%] Downloading Image #2 from https://cdn.designrulz.com/wp-content/uploads/2012/02/Cat_Furniture_Kattenmeubels_Kattenmeubelen_UrbanCatDesign_Gallery_1_F43.jpg\n",
            "[%] File Downloaded !\n",
            "\n",
            "[%] Downloading Image #3 from https://www.demilked.com/magazine/wp-content/uploads/2014/02/cat-home-playground-trillium-enterprises-5.jpg\n",
            "[%] File Downloaded !\n",
            "\n",
            "[%] Downloading Image #4 from http://bengals-of-noa-island.com/index.php?rex_img_type=galerie_thumb&amp;rex_img_file=p1100291.jpg\n",
            "[Error]Invalid image, not saving http://bengals-of-noa-island.com/index.php?rex_img_type=galerie_thumb&amp;rex_img_file=p1100291.jpg\n",
            "\n",
            "[!] Issue getting: http://bengals-of-noa-island.com/index.php?rex_img_type=galerie_thumb&amp;rex_img_file=p1100291.jpg\n",
            "[!] Error:: No active exception to reraise\n",
            "[%] Downloading Image #4 from https://www.luvbat.com/uploads/funny_dog_hugs_toy_1369707835.jpg\n",
            "[%] File Downloaded !\n",
            "\n",
            "[%] Downloading Image #5 from http://www.trendzified.net/wp-content/uploads/2014/10/2wn64-cats12.jpg\n",
            "[%] File Downloaded !\n",
            "\n",
            "[%] Downloading Image #6 from http://estilingada.com/wp-content/uploads/2018/01/24428b4a82bfbddf863cab1948b7d264-225x300.jpg\n",
            "[Error]Invalid image, not saving http://estilingada.com/wp-content/uploads/2018/01/24428b4a82bfbddf863cab1948b7d264-225x300.jpg\n",
            "\n",
            "[!] Issue getting: http://estilingada.com/wp-content/uploads/2018/01/24428b4a82bfbddf863cab1948b7d264-225x300.jpg\n",
            "[!] Error:: No active exception to reraise\n",
            "[%] Downloading Image #6 from https://s1.cdn.autoevolution.com/images/news/gallery/this-star-wars-landspeeder-is-the-best-cat-bed-for-your-pet_7.jpg\n",
            "[%] File Downloaded !\n",
            "\n",
            "[%] Downloading Image #7 from https://www.sunnyskyz.com/uploads/2015/02/uhwr0-21-Liowl.jpg\n",
            "[%] File Downloaded !\n",
            "\n",
            "[%] Downloading Image #8 from https://www.craftideasforkids.co.uk/wp-content/uploads/2014/09/Toilet-Roll-Cat-8-768x1024.jpg\n",
            "[%] File Downloaded !\n",
            "\n",
            "\n",
            "\n",
            "[!!]Indexing page: 2\n",
            "\n",
            "[%] Indexed 12 Images on Page 2.\n",
            "\n",
            "===============================================\n",
            "\n",
            "[%] Downloading Image #9 from http://purrtacular.com/wp-content/uploads/2016/08/fluffy-cats-06.jpg\n",
            "[%] File Downloaded !\n",
            "\n",
            "[%] Downloading Image #10 from http://theoceanvoyager.com/wp-content/uploads/2013/03/cat-boat.jpg\n",
            "[%] File Downloaded !\n",
            "\n",
            "[%] Downloading Image #11 from https://www.buildsomething.com/webres/Plans/Images/B52EE894CFD0C64D600A51D17AE53D102423AB4A8F49AF8C.jpg\n",
            "[Error]Invalid image, not saving https://www.buildsomething.com/webres/Plans/Images/B52EE894CFD0C64D600A51D17AE53D102423AB4A8F49AF8C.jpg\n",
            "\n",
            "[!] Issue getting: https://www.buildsomething.com/webres/Plans/Images/B52EE894CFD0C64D600A51D17AE53D102423AB4A8F49AF8C.jpg\n",
            "[!] Error:: No active exception to reraise\n",
            "[%] Downloading Image #11 from http://www.top13.net/wp-content/uploads/2015/12/huge-maine-coon-cats-11.jpg\n",
            "[%] File Downloaded !\n",
            "\n",
            "[%] Downloading Image #12 from http://www.devineescapes.com/wp-content/uploads/2014/03/cattowergood4-768x1024.jpg\n",
            "[%] File Downloaded !\n",
            "\n",
            "[%] Downloading Image #13 from https://hative.com/wp-content/uploads/2014/04/pipe-cleaner-animals/28-pipe-cleaner-antelope.jpg\n",
            "[%] File Downloaded !\n",
            "\n",
            "[%] Downloading Image #14 from https://www.top13.net/wp-content/uploads/2015/11/funny-cat-fails-34.jpg\n",
            "[%] File Downloaded !\n",
            "\n",
            "[%] Downloading Image #15 from https://breakbrunch.com/wp-content/uploads/2019/08/sexy-cosplay-by-rockys-light-070719-3.jpg\n",
            "[%] File Downloaded !\n",
            "\n",
            "[%] Downloading Image #16 from https://www.animals-zone.com/wp-content/uploads/2014/04/angry-cat.jpg\n",
            "[%] File Downloaded !\n",
            "\n",
            "[%] Downloading Image #17 from https://www.recreoviral.com/wp-content/uploads/2015/03/Gatos-que-aman-bañarse-9.jpg\n",
            "[!] Issue getting: https://www.recreoviral.com/wp-content/uploads/2015/03/Gatos-que-aman-bañarse-9.jpg\n",
            "[!] Error:: 'ascii' codec can't encode character '\\xf1' in position 49: ordinal not in range(128)\n",
            "[%] Downloading Image #17 from https://www.cardcow.com/images/set64/card00061_fr.jpg\n",
            "[%] File Downloaded !\n",
            "\n",
            "[%] Downloading Image #18 from http://fightersgeneration.com/characters4/catwomen-batgirl.jpg\n",
            "[%] File Downloaded !\n",
            "\n",
            "\n",
            "\n",
            "[!!]Indexing page: 3\n",
            "\n",
            "[%] Indexed 9 Images on Page 3.\n",
            "\n",
            "===============================================\n",
            "\n",
            "[%] Downloading Image #19 from https://www.demilked.com/magazine/wp-content/uploads/2014/02/cat-home-playground-trillium-enterprises-5.jpg\n",
            "[%] File Downloaded !\n",
            "\n",
            "[%] Downloading Image #20 from http://bengals-of-noa-island.com/index.php?rex_img_type=galerie_thumb&amp;rex_img_file=p1100291.jpg\n",
            "[Error]Invalid image, not saving http://bengals-of-noa-island.com/index.php?rex_img_type=galerie_thumb&amp;rex_img_file=p1100291.jpg\n",
            "\n",
            "[!] Issue getting: http://bengals-of-noa-island.com/index.php?rex_img_type=galerie_thumb&amp;rex_img_file=p1100291.jpg\n",
            "[!] Error:: No active exception to reraise\n",
            "[%] Downloading Image #20 from https://s1.cdn.autoevolution.com/images/news/gallery/this-star-wars-landspeeder-is-the-best-cat-bed-for-your-pet_7.jpg\n",
            "[%] File Downloaded !\n",
            "\n",
            "[%] Downloading Image #21 from http://www.trendzified.net/wp-content/uploads/2014/10/2wn64-cats12.jpg\n",
            "[%] File Downloaded !\n",
            "\n",
            "[%] Downloading Image #22 from https://www.luvbat.com/uploads/funny_dog_hugs_toy_1369707835.jpg\n",
            "[%] File Downloaded !\n",
            "\n",
            "[%] Downloading Image #23 from https://www.sunnyskyz.com/uploads/2015/02/uhwr0-21-Liowl.jpg\n",
            "[%] File Downloaded !\n",
            "\n",
            "[%] Downloading Image #24 from https://cdn.designrulz.com/wp-content/uploads/2012/02/Cat_Furniture_Kattenmeubels_Kattenmeubelen_UrbanCatDesign_Gallery_1_F43.jpg\n",
            "[%] File Downloaded !\n",
            "\n",
            "[%] Downloading Image #25 from http://estilingada.com/wp-content/uploads/2018/01/24428b4a82bfbddf863cab1948b7d264-225x300.jpg\n",
            "[Error]Invalid image, not saving http://estilingada.com/wp-content/uploads/2018/01/24428b4a82bfbddf863cab1948b7d264-225x300.jpg\n",
            "\n",
            "[!] Issue getting: http://estilingada.com/wp-content/uploads/2018/01/24428b4a82bfbddf863cab1948b7d264-225x300.jpg\n",
            "[!] Error:: No active exception to reraise\n",
            "[%] Downloading Image #25 from https://www.craftideasforkids.co.uk/wp-content/uploads/2014/09/Toilet-Roll-Cat-8-768x1024.jpg\n",
            "[%] File Downloaded !\n",
            "\n",
            "\n",
            "\n",
            "[!!]Indexing page: 4\n",
            "\n",
            "[%] Indexed 10 Images on Page 4.\n",
            "\n",
            "===============================================\n",
            "\n",
            "[%] Downloading Image #26 from https://www.top13.net/wp-content/uploads/2015/11/funny-cat-fails-34.jpg\n",
            "[%] File Downloaded !\n",
            "\n",
            "[%] Downloading Image #27 from https://www.buildsomething.com/webres/Plans/Images/B52EE894CFD0C64D600A51D17AE53D102423AB4A8F49AF8C.jpg\n",
            "[Error]Invalid image, not saving https://www.buildsomething.com/webres/Plans/Images/B52EE894CFD0C64D600A51D17AE53D102423AB4A8F49AF8C.jpg\n",
            "\n",
            "[!] Issue getting: https://www.buildsomething.com/webres/Plans/Images/B52EE894CFD0C64D600A51D17AE53D102423AB4A8F49AF8C.jpg\n",
            "[!] Error:: No active exception to reraise\n",
            "[%] Downloading Image #27 from https://www.animals-zone.com/wp-content/uploads/2014/04/angry-cat.jpg\n",
            "[%] File Downloaded !\n",
            "\n",
            "[%] Downloading Image #28 from https://breakbrunch.com/wp-content/uploads/2019/08/sexy-cosplay-by-rockys-light-070719-3.jpg\n",
            "[%] File Downloaded !\n",
            "\n",
            "[%] Downloading Image #29 from https://www.recreoviral.com/wp-content/uploads/2015/03/Gatos-que-aman-bañarse-9.jpg\n",
            "[!] Issue getting: https://www.recreoviral.com/wp-content/uploads/2015/03/Gatos-que-aman-bañarse-9.jpg\n",
            "[!] Error:: 'ascii' codec can't encode character '\\xf1' in position 49: ordinal not in range(128)\n",
            "[%] Downloading Image #29 from http://www.devineescapes.com/wp-content/uploads/2014/03/cattowergood4-768x1024.jpg\n",
            "[%] File Downloaded !\n",
            "\n",
            "[%] Downloading Image #30 from https://hative.com/wp-content/uploads/2014/04/pipe-cleaner-animals/28-pipe-cleaner-antelope.jpg\n",
            "[%] File Downloaded !\n",
            "\n",
            "\n",
            "\n",
            "[%] Done. Downloaded 30 images.\n",
            "\n",
            "===============================================\n",
            "\n"
          ],
          "name": "stdout"
        }
      ]
    },
    {
      "cell_type": "code",
      "metadata": {
        "id": "88rQRvGEIHat"
      },
      "source": [
        "target =[]\n",
        "flat_data =[]\n",
        "images =[]\n",
        "\n",
        "datadir = '/content/images'\n",
        "CATEGORIES = ['Cat','Dog']\n",
        "\n",
        "for category in CATEGORIES:\n",
        "  #print(category)\n",
        "  class_num = CATEGORIES.index(category)\n",
        "  #print(class_num)\\\n",
        "  path = os.path.join(datadir,category)\n",
        "  #print(path)\n",
        "  for img in os.listdir(path):\n",
        "    img_ar = imread(os.path.join(path,img))\n",
        "    #print(img_ar.shape)\n",
        "    #plt.imshow(img_ar)\n",
        "    img_resized = resize(img_ar,(150,150,3))\n",
        "    flat_data.append(img_resized.flatten())\n",
        "    images.append(img_resized)\n",
        "    target.append(class_num)\n",
        "\n",
        "\n",
        "flat_data = np.array(flat_data)\n",
        "images = np.array(images)\n",
        "target = np.array(target)"
      ],
      "execution_count": 7,
      "outputs": []
    },
    {
      "cell_type": "code",
      "metadata": {
        "colab": {
          "base_uri": "https://localhost:8080/"
        },
        "id": "N_bmRXEdLyfT",
        "outputId": "56b47a4e-ba0b-4665-abfa-48b21c4b4151"
      },
      "source": [
        "target"
      ],
      "execution_count": 8,
      "outputs": [
        {
          "output_type": "execute_result",
          "data": {
            "text/plain": [
              "array([0, 0, 0, 0, 0, 0, 0, 0, 0, 0, 0, 0, 0, 0, 0, 0, 0, 0, 0, 0, 0, 0,\n",
              "       0, 0, 0, 0, 0, 0, 0, 0, 1, 1, 1, 1, 1, 1, 1, 1, 1, 1, 1, 1, 1, 1,\n",
              "       1, 1, 1, 1, 1, 1, 1, 1, 1, 1, 1, 1, 1, 1, 1, 1])"
            ]
          },
          "metadata": {
            "tags": []
          },
          "execution_count": 8
        }
      ]
    },
    {
      "cell_type": "code",
      "metadata": {
        "id": "GgB_J0QVL3Ay"
      },
      "source": [
        "unique,count = np.unique(target,return_counts=True)"
      ],
      "execution_count": 9,
      "outputs": []
    },
    {
      "cell_type": "code",
      "metadata": {
        "colab": {
          "base_uri": "https://localhost:8080/"
        },
        "id": "Xl-9xP4CMAOU",
        "outputId": "1a8c61a4-70dd-43df-a7b6-c568d58ca829"
      },
      "source": [
        "count , unique"
      ],
      "execution_count": 10,
      "outputs": [
        {
          "output_type": "execute_result",
          "data": {
            "text/plain": [
              "(array([30, 30]), array([0, 1]))"
            ]
          },
          "metadata": {
            "tags": []
          },
          "execution_count": 10
        }
      ]
    },
    {
      "cell_type": "code",
      "metadata": {
        "colab": {
          "base_uri": "https://localhost:8080/",
          "height": 282
        },
        "id": "wSL2j6s8MF92",
        "outputId": "72e9179d-38fa-4122-c1ea-22ac63e183c6"
      },
      "source": [
        "plt.bar(CATEGORIES,count)"
      ],
      "execution_count": 11,
      "outputs": [
        {
          "output_type": "execute_result",
          "data": {
            "text/plain": [
              "<BarContainer object of 2 artists>"
            ]
          },
          "metadata": {
            "tags": []
          },
          "execution_count": 11
        },
        {
          "output_type": "display_data",
          "data": {
            "image/png": "[encoded data removed]",
            "text/plain": [
              "<Figure size 432x288 with 1 Axes>"
            ]
          },
          "metadata": {
            "tags": [],
            "needs_background": "light"
          }
        }
      ]
    },
    {
      "cell_type": "code",
      "metadata": {
        "id": "zRqypnNGMLyc"
      },
      "source": [
        "from sklearn.model_selection import train_test_split\n",
        "x_train, x_test, y_train, y_test = train_test_split(flat_data,target,test_size =0.4, random_state = 123)"
      ],
      "execution_count": 12,
      "outputs": []
    },
    {
      "cell_type": "code",
      "metadata": {
        "colab": {
          "base_uri": "https://localhost:8080/"
        },
        "id": "i69Jd8j_MkLM",
        "outputId": "0c98c0be-6a3c-4d6e-ce12-18ee7eed6b38"
      },
      "source": [
        "y_test"
      ],
      "execution_count": 13,
      "outputs": [
        {
          "output_type": "execute_result",
          "data": {
            "text/plain": [
              "array([0, 1, 0, 1, 1, 1, 0, 1, 1, 0, 0, 0, 1, 0, 0, 0, 0, 0, 1, 0, 0, 1,\n",
              "       1, 1])"
            ]
          },
          "metadata": {
            "tags": []
          },
          "execution_count": 13
        }
      ]
    },
    {
      "cell_type": "code",
      "metadata": {
        "id": "HWYokQ2zMmGX"
      },
      "source": [
        "from sklearn.model_selection import GridSearchCV\n",
        "from sklearn import svm\n",
        "\n",
        "param_grid = [\n",
        "              {'C':[1,10,100,1000],'kernel':['rbf']},\n",
        "              {'C':[1,10,100,1000],'kernel':['rbf'],'gamma':[0.1,0.01,0.001,0.0001,0.00001]},\n",
        "\n",
        "]\n",
        "svc = svm.SVC(probability=True)\n",
        "clf = GridSearchCV(svc,param_grid)"
      ],
      "execution_count": 14,
      "outputs": []
    },
    {
      "cell_type": "code",
      "metadata": {
        "colab": {
          "base_uri": "https://localhost:8080/"
        },
        "id": "CwBDXWedNwJ4",
        "outputId": "b39378de-0ffe-4a07-8be3-891480ba3ddc"
      },
      "source": [
        "clf.fit(x_train,y_train)"
      ],
      "execution_count": 15,
      "outputs": [
        {
          "output_type": "execute_result",
          "data": {
            "text/plain": [
              "GridSearchCV(cv=None, error_score=nan,\n",
              "             estimator=SVC(C=1.0, break_ties=False, cache_size=200,\n",
              "                           class_weight=None, coef0=0.0,\n",
              "                           decision_function_shape='ovr', degree=3,\n",
              "                           gamma='scale', kernel='rbf', max_iter=-1,\n",
              "                           probability=True, random_state=None, shrinking=True,\n",
              "                           tol=0.001, verbose=False),\n",
              "             iid='deprecated', n_jobs=None,\n",
              "             param_grid=[{'C': [1, 10, 100, 1000], 'kernel': ['rbf']},\n",
              "                         {'C': [1, 10, 100, 1000],\n",
              "                          'gamma': [0.1, 0.01, 0.001, 0.0001, 1e-05],\n",
              "                          'kernel': ['rbf']}],\n",
              "             pre_dispatch='2*n_jobs', refit=True, return_train_score=False,\n",
              "             scoring=None, verbose=0)"
            ]
          },
          "metadata": {
            "tags": []
          },
          "execution_count": 15
        }
      ]
    },
    {
      "cell_type": "code",
      "metadata": {
        "colab": {
          "base_uri": "https://localhost:8080/"
        },
        "id": "mfDLNUNHOJCF",
        "outputId": "31f19fb0-fe73-4d32-cb98-cd59ceccdc94"
      },
      "source": [
        "y_pred  =clf.predict(x_test)\n",
        "y_pred"
      ],
      "execution_count": 16,
      "outputs": [
        {
          "output_type": "execute_result",
          "data": {
            "text/plain": [
              "array([0, 1, 0, 0, 1, 1, 1, 1, 0, 0, 0, 1, 1, 0, 1, 1, 0, 1, 1, 0, 0, 1,\n",
              "       1, 0])"
            ]
          },
          "metadata": {
            "tags": []
          },
          "execution_count": 16
        }
      ]
    },
    {
      "cell_type": "code",
      "metadata": {
        "colab": {
          "base_uri": "https://localhost:8080/"
        },
        "id": "ID1RtSfcOQnb",
        "outputId": "b4573a71-14a5-41e1-9d9e-f3e14aa11ffd"
      },
      "source": [
        "y_test"
      ],
      "execution_count": 17,
      "outputs": [
        {
          "output_type": "execute_result",
          "data": {
            "text/plain": [
              "array([0, 1, 0, 1, 1, 1, 0, 1, 1, 0, 0, 0, 1, 0, 0, 0, 0, 0, 1, 0, 0, 1,\n",
              "       1, 1])"
            ]
          },
          "metadata": {
            "tags": []
          },
          "execution_count": 17
        }
      ]
    },
    {
      "cell_type": "code",
      "metadata": {
        "colab": {
          "base_uri": "https://localhost:8080/"
        },
        "id": "U2bYv3-sOVH4",
        "outputId": "95bf39e1-96d3-48a8-e776-c2cf6bf00427"
      },
      "source": [
        "from sklearn.metrics import accuracy_score, confusion_matrix\n",
        "s = (accuracy_score(y_pred,y_test))\n",
        "print(s)\n",
        "confusion_matrix(y_pred,y_test)"
      ],
      "execution_count": 20,
      "outputs": [
        {
          "output_type": "stream",
          "text": [
            "0.6666666666666666\n"
          ],
          "name": "stdout"
        },
        {
          "output_type": "execute_result",
          "data": {
            "text/plain": [
              "array([[8, 3],\n",
              "       [5, 8]])"
            ]
          },
          "metadata": {
            "tags": []
          },
          "execution_count": 20
        }
      ]
    },
    {
      "cell_type": "code",
      "metadata": {
        "colab": {
          "base_uri": "https://localhost:8080/"
        },
        "id": "i7LvM6F5OqtC",
        "outputId": "d8adb035-7ec0-428a-901e-d8c826f5843b"
      },
      "source": [
        "from xgboost import XGBClassifier\n",
        "model = XGBClassifier()\n",
        "model.fit(x_train,y_train)\n"
      ],
      "execution_count": 19,
      "outputs": [
        {
          "output_type": "execute_result",
          "data": {
            "text/plain": [
              "XGBClassifier(base_score=0.5, booster='gbtree', colsample_bylevel=1,\n",
              "              colsample_bynode=1, colsample_bytree=1, gamma=0,\n",
              "              learning_rate=0.1, max_delta_step=0, max_depth=3,\n",
              "              min_child_weight=1, missing=None, n_estimators=100, n_jobs=1,\n",
              "              nthread=None, objective='binary:logistic', random_state=0,\n",
              "              reg_alpha=0, reg_lambda=1, scale_pos_weight=1, seed=None,\n",
              "              silent=None, subsample=1, verbosity=1)"
            ]
          },
          "metadata": {
            "tags": []
          },
          "execution_count": 19
        }
      ]
    },
    {
      "cell_type": "code",
      "metadata": {
        "colab": {
          "base_uri": "https://localhost:8080/"
        },
        "id": "hj6wVTJ9PFnh",
        "outputId": "f4703f0c-65b6-4945-9df4-b4ed6ba2f8c8"
      },
      "source": [
        "y_predict = model.predict(x_test)\n",
        "y_predict"
      ],
      "execution_count": 21,
      "outputs": [
        {
          "output_type": "execute_result",
          "data": {
            "text/plain": [
              "array([0, 1, 0, 0, 0, 0, 1, 1, 0, 0, 0, 1, 0, 0, 1, 0, 0, 0, 0, 0, 0, 1,\n",
              "       1, 0])"
            ]
          },
          "metadata": {
            "tags": []
          },
          "execution_count": 21
        }
      ]
    },
    {
      "cell_type": "code",
      "metadata": {
        "colab": {
          "base_uri": "https://localhost:8080/"
        },
        "id": "ogCHOyQDPOTN",
        "outputId": "3873f3e2-f423-44bc-80db-5887b60f7f7c"
      },
      "source": [
        "y_test"
      ],
      "execution_count": 22,
      "outputs": [
        {
          "output_type": "execute_result",
          "data": {
            "text/plain": [
              "array([0, 1, 0, 1, 1, 1, 0, 1, 1, 0, 0, 0, 1, 0, 0, 0, 0, 0, 1, 0, 0, 1,\n",
              "       1, 1])"
            ]
          },
          "metadata": {
            "tags": []
          },
          "execution_count": 22
        }
      ]
    },
    {
      "cell_type": "code",
      "metadata": {
        "id": "JPkfW_6PPQdB",
        "colab": {
          "base_uri": "https://localhost:8080/"
        },
        "outputId": "e32f6cf1-ebf7-4ced-cae9-a4a504181a4d"
      },
      "source": [
        "x = accuracy_score(y_predict,y_test)\n",
        "x"
      ],
      "execution_count": 23,
      "outputs": [
        {
          "output_type": "execute_result",
          "data": {
            "text/plain": [
              "0.5833333333333334"
            ]
          },
          "metadata": {
            "tags": []
          },
          "execution_count": 23
        }
      ]
    },
    {
      "cell_type": "code",
      "metadata": {
        "colab": {
          "base_uri": "https://localhost:8080/"
        },
        "id": "COvxohC0PcV5",
        "outputId": "ffe09d54-8603-4322-bba1-cda7c6efd950"
      },
      "source": [
        "confusion_matrix(y_predict,y_test)\n"
      ],
      "execution_count": 24,
      "outputs": [
        {
          "output_type": "execute_result",
          "data": {
            "text/plain": [
              "array([[10,  7],\n",
              "       [ 3,  4]])"
            ]
          },
          "metadata": {
            "tags": []
          },
          "execution_count": 24
        }
      ]
    },
    {
      "cell_type": "code",
      "metadata": {
        "id": "vVmE9xPwTO7C"
      },
      "source": [
        "import pickle\n",
        "if x>s:\n",
        "  pickle.dump(model,open('img_model.p','wb'))\n",
        "else:\n",
        "  pickle.dump(clf,open('img_model.p','wb'))"
      ],
      "execution_count": 25,
      "outputs": []
    },
    {
      "cell_type": "code",
      "metadata": {
        "id": "ewSVSFM6P3W8"
      },
      "source": [
        "model1 =pickle.load(open('img_model.p','rb'))"
      ],
      "execution_count": 26,
      "outputs": []
    },
    {
      "cell_type": "code",
      "metadata": {
        "colab": {
          "base_uri": "https://localhost:8080/",
          "height": 320
        },
        "id": "ZbyINs4AQEXP",
        "outputId": "7eefd598-c75e-4790-fef7-38630ab9510f"
      },
      "source": [
        "#testing the brand new Image\n",
        "flat_data = []\n",
        "url = input(\"Enter URL\")\n",
        "img = imread(url)\n",
        "img_resized = resize(img,(150,150,3))\n",
        "flat_data.append(img_resized.flatten())\n",
        "flat_data  =np.array(flat_data)\n",
        "print(img.shape)\n",
        "plt.imshow(img_resized)\n",
        "y_out = model1.predict(flat_data)\n",
        "y_out = CATEGORIES[y_out[0]]\n",
        "print(f'Predicted output : {y_out}')"
      ],
      "execution_count": 27,
      "outputs": [
        {
          "output_type": "stream",
          "text": [
            "Enter URLhttps://i.pinimg.com/originals/1c/2f/52/1c2f52962906d49ee2c3359a23de64e1.jpg\n",
            "(600, 800, 3)\n",
            "Predicted output : Cat\n"
          ],
          "name": "stdout"
        },
        {
          "output_type": "display_data",
          "data": {
            "image/png": "[encoded data removed]",
            "text/plain": [
              "<Figure size 432x288 with 1 Axes>"
            ]
          },
          "metadata": {
            "tags": [],
            "needs_background": "light"
          }
        }
      ]
    }
  ]
}