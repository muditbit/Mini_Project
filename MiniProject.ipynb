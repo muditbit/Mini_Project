{
  "nbformat": 4,
  "nbformat_minor": 0,
  "metadata": {
    "colab": {
      "name": "MiniProject.ipynb",
      "provenance": [],
      "collapsed_sections": [],
      "toc_visible": true,
      "mount_file_id": "163AFHxfZQxngcj7Bon0ilxnzXHCZx9-0",
      "authorship_tag": "ABX9TyNhekFhkZpZj/pnDXrslVEq",
      "include_colab_link": true
    },
    "kernelspec": {
      "display_name": "Python 3",
      "name": "python3"
    },
    "language_info": {
      "name": "python"
    }
  },
  "cells": [
    {
      "cell_type": "markdown",
      "metadata": {
        "id": "view-in-github",
        "colab_type": "text"
      },
      "source": [
        "<a href=\"https://colab.research.google.com/github/muditbit/img_classifier_SVM_or_XGBoost/blob/master/MiniProject.ipynb\" target=\"_parent\"><img src=\"https://colab.research.google.com/assets/colab-badge.svg\" alt=\"Open In Colab\"/></a>"
      ]
    },
    {
      "cell_type": "code",
      "metadata": {
        "id": "pZ1svnkqEkuY"
      },
      "source": [
        "#8Import necessary libraries\n",
        "import numpy as np\n",
        "import pandas as pd\n",
        "import matplotlib.pyplot as plt\n",
        "import sklearn\n",
        "import os \n",
        "from skimage.io import imread\n",
        "from skimage.transform import resize"
      ],
      "execution_count": null,
      "outputs": []
    },
    {
      "cell_type": "code",
      "metadata": {
        "colab": {
          "base_uri": "https://localhost:8080/"
        },
        "id": "AuQ2CVfKGybh",
        "outputId": "6f10e6ee-afe9-44dd-b7e4-a0c6baa957df"
      },
      "source": [
        "#installing bing-image-downloader\n",
        "!pip install bing-image-downloader\n",
        "\n"
      ],
      "execution_count": null,
      "outputs": [
        {
          "output_type": "stream",
          "text": [
            "Collecting bing-image-downloader\n",
            "  Downloading https://files.pythonhosted.org/packages/0d/bf/537a61030b84ae4cd5022d5c7b014fd9bc3ce7c02358919153a6658a61d3/bing_image_downloader-1.0.4-py3-none-any.whl\n",
            "Installing collected packages: bing-image-downloader\n",
            "Successfully installed bing-image-downloader-1.0.4\n"
          ],
          "name": "stdout"
        }
      ]
    },
    {
      "cell_type": "code",
      "metadata": {
        "id": "NmYj8aMg2URR",
        "colab": {
          "base_uri": "https://localhost:8080/"
        },
        "outputId": "006d10c6-48e3-4bc6-a446-9ba9a7de0a6a"
      },
      "source": [
        "#creating images folder in directory\n",
        "!mkdir images"
      ],
      "execution_count": null,
      "outputs": [
        {
          "output_type": "stream",
          "text": [
            "mkdir: cannot create directory ‘images’: File exists\n"
          ],
          "name": "stdout"
        }
      ]
    },
    {
      "cell_type": "code",
      "metadata": {
        "colab": {
          "base_uri": "https://localhost:8080/"
        },
        "id": "KFyzvGFZE1nf",
        "outputId": "d6d8fdad-3531-4857-da89-c85451e8e084"
      },
      "source": [
        "#downloading images for dataset through bing images (web scrapping)\n",
        "from bing_image_downloader import downloader\n",
        "downloader.download(\"Dog\",limit=30,output_dir = 'images',\n",
        "                    adult_filter_off=True)"
      ],
      "execution_count": null,
      "outputs": [
        {
          "output_type": "stream",
          "text": [
            "\n",
            "\n",
            "[!!]Indexing page: 1\n",
            "\n",
            "[%] Indexed 12 Images on Page 1.\n",
            "\n",
            "===============================================\n",
            "\n",
            "[%] Downloading Image #1 from http://www.easypetmd.com/sites/default/files/German Shepherd Dog.jpg (6).jpeg\n",
            "[!] Issue getting: http://www.easypetmd.com/sites/default/files/German Shepherd Dog.jpg (6).jpeg\n",
            "[!] Error:: URL can't contain control characters. '/sites/default/files/German Shepherd Dog.jpg (6).jpeg' (found at least ' ')\n",
            "[%] Downloading Image #1 from http://tranquilmonkey.com/wp-content/uploads/2014/07/funny-underwater-dog-photos-6.jpg\n",
            "[%] File Downloaded !\n",
            "\n",
            "[%] Downloading Image #2 from https://www.doseoffunny.com/wp-content/uploads/2014/05/funny-pun-husky-meme-pupsicle.jpg\n",
            "[%] File Downloaded !\n",
            "\n",
            "[%] Downloading Image #3 from https://www.newslinq.com/wp-content/uploads/2016/08/cutest-puppies-in-the-world-10.jpg\n",
            "[%] File Downloaded !\n",
            "\n",
            "[%] Downloading Image #4 from https://www.gravetics.com/wp-content/uploads/2017/07/Dalmatian-Firefighter.jpg\n",
            "[%] File Downloaded !\n",
            "\n",
            "[%] Downloading Image #5 from http://moderndogmagazine.com/sites/default/files/images/uploads/smilingdogs_ziva.jpg\n",
            "[%] File Downloaded !\n",
            "\n",
            "[%] Downloading Image #6 from https://www.recreoviral.com/wp-content/uploads/2015/01/growing-up-sucks-cute-dogs-010-funny-bits-562x750.jpg\n",
            "[%] File Downloaded !\n",
            "\n",
            "[%] Downloading Image #7 from http://www.okchicas.com/wp-content/uploads/2015/02/Los-perros-más-pequeños-del-mundo-21.jpg\n",
            "[!] Issue getting: http://www.okchicas.com/wp-content/uploads/2015/02/Los-perros-más-pequeños-del-mundo-21.jpg\n",
            "[!] Error:: 'ascii' codec can't encode character '\\xe1' in position 44: ordinal not in range(128)\n",
            "[%] Downloading Image #7 from https://www.barnorama.com/wp-content/uploads/2019/03/service_dog_memes_21.jpg\n",
            "[%] File Downloaded !\n",
            "\n",
            "[%] Downloading Image #8 from https://ww1.prweb.com/prfiles/2005/08/05/270032/ISSBD.jpg\n",
            "[%] File Downloaded !\n",
            "\n",
            "[%] Downloading Image #9 from http://www.newslinq.com/wp-content/uploads/2014/11/23934.jpg\n",
            "[%] File Downloaded !\n",
            "\n",
            "[%] Downloading Image #10 from https://www.hdwallpapers.in/download/wolf_predator_photoshop_art_4k_hd-1920x1080.jpg\n",
            "[%] File Downloaded !\n",
            "\n",
            "\n",
            "\n",
            "[!!]Indexing page: 2\n",
            "\n",
            "[%] Indexed 10 Images on Page 2.\n",
            "\n",
            "===============================================\n",
            "\n",
            "[%] Downloading Image #11 from https://www.dogvills.com/wp-content/uploads/2015/07/dog-breeds-for-the-elderly.jpg\n",
            "[%] File Downloaded !\n",
            "\n",
            "[%] Downloading Image #12 from http://shamrockroseaussies.com/yahoo_site_admin/assets/images/DSC_0164.41162731_std.JPG\n",
            "[%] File Downloaded !\n",
            "\n",
            "[%] Downloading Image #13 from https://www.sunnyskyz.com/uploads/2014/07/vvnr4-dogs-eat-bees4.jpg\n",
            "[%] File Downloaded !\n",
            "\n",
            "[%] Downloading Image #14 from https://wanna-joke.com/wp-content/uploads/2014/04/funny-picture-girl-car-dog-scared.jpg\n",
            "[%] File Downloaded !\n",
            "\n",
            "[%] Downloading Image #15 from http://www.funcage.com/blog/wp-content/uploads/2013/04/Terrifyingly-Tall-Women-019-550x733.jpg\n",
            "[%] File Downloaded !\n",
            "\n",
            "[%] Downloading Image #16 from https://www.viraltrix.com/wp-content/uploads/2015/10/senorito-gato.jpg\n",
            "[%] File Downloaded !\n",
            "\n",
            "[%] Downloading Image #17 from https://dinoanimals.com/wp-content/uploads/2015/03/Boa-constrictor-588x441.jpg\n",
            "[%] File Downloaded !\n",
            "\n",
            "[%] Downloading Image #18 from http://www.funcage.com/blog/wp-content/uploads/2013/04/Terrifyingly-Tall-Women-010-550x733.jpg\n",
            "[%] File Downloaded !\n",
            "\n",
            "[%] Downloading Image #19 from http://spongekids.com/wp-content/uploads/2014/04/pipe-cleaner-animals/49-pipe-cleaner-shark.jpg\n",
            "[%] File Downloaded !\n",
            "\n",
            "[%] Downloading Image #20 from http://hondenwoordenboek.nl/wp-content/uploads/Honden-bench-kast-4.jpg\n",
            "[%] File Downloaded !\n",
            "\n",
            "\n",
            "\n",
            "[!!]Indexing page: 3\n",
            "\n",
            "[%] Indexed 11 Images on Page 3.\n",
            "\n",
            "===============================================\n",
            "\n",
            "[%] Downloading Image #21 from https://www.newslinq.com/wp-content/uploads/2016/08/cutest-puppies-in-the-world-10.jpg\n",
            "[%] File Downloaded !\n",
            "\n",
            "[%] Downloading Image #22 from http://moderndogmagazine.com/sites/default/files/images/uploads/smilingdogs_ziva.jpg\n",
            "[%] File Downloaded !\n",
            "\n",
            "[%] Downloading Image #23 from https://www.doseoffunny.com/wp-content/uploads/2014/05/funny-pun-husky-meme-pupsicle.jpg\n",
            "[%] File Downloaded !\n",
            "\n",
            "[%] Downloading Image #24 from http://www.okchicas.com/wp-content/uploads/2015/02/Los-perros-más-pequeños-del-mundo-21.jpg\n",
            "[!] Issue getting: http://www.okchicas.com/wp-content/uploads/2015/02/Los-perros-más-pequeños-del-mundo-21.jpg\n",
            "[!] Error:: 'ascii' codec can't encode character '\\xe1' in position 44: ordinal not in range(128)\n",
            "[%] Downloading Image #24 from https://www.recreoviral.com/wp-content/uploads/2015/01/growing-up-sucks-cute-dogs-010-funny-bits-562x750.jpg\n",
            "[%] File Downloaded !\n",
            "\n",
            "[%] Downloading Image #25 from https://www.gravetics.com/wp-content/uploads/2017/07/Dalmatian-Firefighter.jpg\n",
            "[%] File Downloaded !\n",
            "\n",
            "[%] Downloading Image #26 from https://ww1.prweb.com/prfiles/2005/08/05/270032/ISSBD.jpg\n",
            "[%] File Downloaded !\n",
            "\n",
            "[%] Downloading Image #27 from https://www.barnorama.com/wp-content/uploads/2019/03/service_dog_memes_21.jpg\n",
            "[%] File Downloaded !\n",
            "\n",
            "[%] Downloading Image #28 from http://tranquilmonkey.com/wp-content/uploads/2014/07/funny-underwater-dog-photos-6.jpg\n",
            "[%] File Downloaded !\n",
            "\n",
            "[%] Downloading Image #29 from http://www.newslinq.com/wp-content/uploads/2014/11/23934.jpg\n",
            "[%] File Downloaded !\n",
            "\n",
            "[%] Downloading Image #30 from https://www.hdwallpapers.in/download/wolf_predator_photoshop_art_4k_hd-1920x1080.jpg\n",
            "[%] File Downloaded !\n",
            "\n"
          ],
          "name": "stdout"
        }
      ]
    },
    {
      "cell_type": "code",
      "metadata": {
        "colab": {
          "base_uri": "https://localhost:8080/"
        },
        "id": "EtyXoMuRHoGk",
        "outputId": "c45c363f-749f-4973-fa87-6eb205fa2ccf"
      },
      "source": [
        "downloader.download(\"Cat\",limit=30,output_dir = 'images',\n",
        "                    adult_filter_off=True)"
      ],
      "execution_count": null,
      "outputs": [
        {
          "output_type": "stream",
          "text": [
            "\n",
            "\n",
            "[!!]Indexing page: 1\n",
            "\n",
            "[%] Indexed 10 Images on Page 1.\n",
            "\n",
            "===============================================\n",
            "\n",
            "[%] Downloading Image #1 from https://www.recreoviral.com/wp-content/uploads/2015/10/Fotos-de-gatos-tomadas-en-el-momento-exacto-1.jpg\n",
            "[%] File Downloaded !\n",
            "\n",
            "[%] Downloading Image #2 from https://www.barnorama.com/wp-content/uploads/2016/11/04-underwater_lake.jpg\n",
            "[%] File Downloaded !\n",
            "\n",
            "[%] Downloading Image #3 from http://www.thedailytop.com/wp-content/uploads/2014/05/bc7253a22256f072d0db5eb6fb811926.jpg\n",
            "[%] File Downloaded !\n",
            "\n",
            "[%] Downloading Image #4 from https://www.recreoviral.com/wp-content/uploads/2015/05/Gatos-que-se-sientas-chistosos-22.jpg\n",
            "[%] File Downloaded !\n",
            "\n",
            "[%] Downloading Image #5 from https://3.bp.blogspot.com/-XLyBgoHmn1k/VGTa_3RxYLI/AAAAAAABFzc/EWGogDHGqAo/s1600/People%2Bwith%2BTheir%2BCats%2Bfrom%2Bthe%2B1920s%2B(14).jpg\n",
            "[%] File Downloaded !\n",
            "\n",
            "[%] Downloading Image #6 from https://hartvoordieren.nl/wp-content/uploads/sites/3/2016/10/FILE-20161028-1019JJGE8BTQGPH7.jpg\n",
            "[%] File Downloaded !\n",
            "\n",
            "[%] Downloading Image #7 from https://www.cardcow.com/images/set287/card00440_fr.jpg\n",
            "[%] File Downloaded !\n",
            "\n",
            "[%] Downloading Image #8 from http://cdn.goodshomedesign.com/wp-content/uploads/2013/12/book-christmas-tree-8.jpg\n",
            "[%] File Downloaded !\n",
            "\n",
            "[%] Downloading Image #9 from https://www.recreoviral.com/wp-content/uploads/2015/07/Imágenes-de-personas-y-animales-intercambiando-sus-caras-1-561x750.jpg\n",
            "[!] Issue getting: https://www.recreoviral.com/wp-content/uploads/2015/07/Imágenes-de-personas-y-animales-intercambiando-sus-caras-1-561x750.jpg\n",
            "[!] Error:: 'ascii' codec can't encode character '\\xe1' in position 34: ordinal not in range(128)\n",
            "[%] Downloading Image #9 from http://en.wikifur.com/w/images/f/fe/Tux1.jpg\n",
            "[%] File Downloaded !\n",
            "\n",
            "\n",
            "\n",
            "[!!]Indexing page: 2\n",
            "\n",
            "[%] Indexed 12 Images on Page 2.\n",
            "\n",
            "===============================================\n",
            "\n",
            "[%] Downloading Image #10 from http://www.guiapetecia.com.br/admin/novo/Racas/Guia-Pet-bbecf4fb24\n",
            "[%] File Downloaded !\n",
            "\n",
            "[%] Downloading Image #11 from http://www.funnyalltime.com/wp-content/uploads/2012/09/crazy-roads-in-the-world-9.jpg\n",
            "[%] File Downloaded !\n",
            "\n",
            "[%] Downloading Image #12 from http://www.awesomeinventions.com/wp-content/uploads/2015/04/cat-hiding-storage.jpg\n",
            "[%] File Downloaded !\n",
            "\n",
            "[%] Downloading Image #13 from https://hative.com/wp-content/uploads/2014/04/cardboard-crafts/10-cardboard-christmas-tree.jpg\n",
            "[%] File Downloaded !\n",
            "\n",
            "[%] Downloading Image #14 from http://cdn.goodshomedesign.com/wp-content/uploads/2016/01/BootDryer-3-576x1024.jpg\n",
            "[%] File Downloaded !\n",
            "\n",
            "[%] Downloading Image #15 from http://www.trendzified.net/wp-content/uploads/2014/10/z9bms-cats1.jpg\n",
            "[%] File Downloaded !\n",
            "\n",
            "[%] Downloading Image #16 from http://spongekids.com/wp-content/uploads/2014/04/pipe-cleaner-animals/49-pipe-cleaner-shark.jpg\n",
            "[%] File Downloaded !\n",
            "\n",
            "[%] Downloading Image #17 from http://www.funnyalltime.com/wp-content/uploads/2012/09/crazy-roads-in-the-world-12.jpg\n",
            "[%] File Downloaded !\n",
            "\n",
            "[%] Downloading Image #18 from https://i.chzbgr.com/original/3867285760/hF6FD3131/cheezburger-image-3867285760\n",
            "[%] File Downloaded !\n",
            "\n",
            "[%] Downloading Image #19 from https://www.viraltrix.com/wp-content/uploads/2015/10/senorito-gato.jpg\n",
            "[%] File Downloaded !\n",
            "\n",
            "[%] Downloading Image #20 from https://www.funnyalltime.com/wp-content/uploads/2012/08/Scary-face.jpg\n",
            "[%] File Downloaded !\n",
            "\n",
            "[%] Downloading Image #21 from http://cdn.goodshomedesign.com/wp-content/uploads/2016/07/wire-craft-ideas-14.jpg\n",
            "[%] File Downloaded !\n",
            "\n",
            "\n",
            "\n",
            "[!!]Indexing page: 3\n",
            "\n",
            "[%] Indexed 9 Images on Page 3.\n",
            "\n",
            "===============================================\n",
            "\n",
            "[%] Downloading Image #22 from https://www.demilked.com/magazine/wp-content/uploads/2014/02/cat-home-playground-trillium-enterprises-5.jpg\n",
            "[%] File Downloaded !\n",
            "\n",
            "[%] Downloading Image #23 from http://bengals-of-noa-island.com/index.php?rex_img_type=galerie_thumb&amp;rex_img_file=p1100291.jpg\n",
            "[Error]Invalid image, not saving http://bengals-of-noa-island.com/index.php?rex_img_type=galerie_thumb&amp;rex_img_file=p1100291.jpg\n",
            "\n",
            "[!] Issue getting: http://bengals-of-noa-island.com/index.php?rex_img_type=galerie_thumb&amp;rex_img_file=p1100291.jpg\n",
            "[!] Error:: No active exception to reraise\n",
            "[%] Downloading Image #23 from https://s1.cdn.autoevolution.com/images/news/gallery/this-star-wars-landspeeder-is-the-best-cat-bed-for-your-pet_7.jpg\n",
            "[%] File Downloaded !\n",
            "\n",
            "[%] Downloading Image #24 from http://www.trendzified.net/wp-content/uploads/2014/10/2wn64-cats12.jpg\n",
            "[%] File Downloaded !\n",
            "\n",
            "[%] Downloading Image #25 from https://www.luvbat.com/uploads/funny_dog_hugs_toy_1369707835.jpg\n",
            "[%] File Downloaded !\n",
            "\n",
            "[%] Downloading Image #26 from https://www.sunnyskyz.com/uploads/2015/02/uhwr0-21-Liowl.jpg\n",
            "[%] File Downloaded !\n",
            "\n",
            "[%] Downloading Image #27 from https://cdn.designrulz.com/wp-content/uploads/2012/02/Cat_Furniture_Kattenmeubels_Kattenmeubelen_UrbanCatDesign_Gallery_1_F43.jpg\n",
            "[%] File Downloaded !\n",
            "\n",
            "[%] Downloading Image #28 from http://estilingada.com/wp-content/uploads/2018/01/24428b4a82bfbddf863cab1948b7d264-225x300.jpg\n",
            "[Error]Invalid image, not saving http://estilingada.com/wp-content/uploads/2018/01/24428b4a82bfbddf863cab1948b7d264-225x300.jpg\n",
            "\n",
            "[!] Issue getting: http://estilingada.com/wp-content/uploads/2018/01/24428b4a82bfbddf863cab1948b7d264-225x300.jpg\n",
            "[!] Error:: No active exception to reraise\n",
            "[%] Downloading Image #28 from https://www.craftideasforkids.co.uk/wp-content/uploads/2014/09/Toilet-Roll-Cat-8-768x1024.jpg\n",
            "[%] File Downloaded !\n",
            "\n",
            "\n",
            "\n",
            "[!!]Indexing page: 4\n",
            "\n",
            "[%] Indexed 8 Images on Page 4.\n",
            "\n",
            "===============================================\n",
            "\n",
            "[%] Downloading Image #29 from http://bengals-of-noa-island.com/index.php?rex_img_type=galerie_thumb&amp;rex_img_file=p1100291.jpg\n",
            "[Error]Invalid image, not saving http://bengals-of-noa-island.com/index.php?rex_img_type=galerie_thumb&amp;rex_img_file=p1100291.jpg\n",
            "\n",
            "[!] Issue getting: http://bengals-of-noa-island.com/index.php?rex_img_type=galerie_thumb&amp;rex_img_file=p1100291.jpg\n",
            "[!] Error:: No active exception to reraise\n",
            "[%] Downloading Image #29 from http://www.trendzified.net/wp-content/uploads/2014/10/2wn64-cats12.jpg\n",
            "[%] File Downloaded !\n",
            "\n",
            "[%] Downloading Image #30 from https://www.luvbat.com/uploads/funny_dog_hugs_toy_1369707835.jpg\n",
            "[%] File Downloaded !\n",
            "\n",
            "\n",
            "\n",
            "[%] Done. Downloaded 30 images.\n",
            "\n",
            "===============================================\n",
            "\n"
          ],
          "name": "stdout"
        }
      ]
    },
    {
      "cell_type": "code",
      "metadata": {
        "id": "88rQRvGEIHat"
      },
      "source": [
        "#preprocessing \n",
        "target =[]\n",
        "flat_data =[]\n",
        "images =[]\n",
        "\n",
        "datadir = '/content/images'\n",
        "CATEGORIES = ['Cat','Dog']\n",
        "\n",
        "for category in CATEGORIES:\n",
        "  #print(category)\n",
        "  class_num = CATEGORIES.index(category) # label encoding (0 : for cat and 1 : for dog)\n",
        "  #print(class_num)\\\n",
        "  path = os.path.join(datadir,category)\n",
        "  #print(path)\n",
        "  for img in os.listdir(path):\n",
        "    img_ar = imread(os.path.join(path,img)) #reading the image from the directory\n",
        "    #print(img_ar.shape)\n",
        "    #plt.imshow(img_ar)\n",
        "    img_resized = resize(img_ar,(150,150,3)) #resizing the image\n",
        "    flat_data.append(img_resized.flatten()) #flattening the data \n",
        "    images.append(img_resized)\n",
        "    target.append(class_num)\n",
        "\n",
        "# creating numpy array of the processed data\n",
        "flat_data = np.array(flat_data)\n",
        "images = np.array(images)\n",
        "target = np.array(target)"
      ],
      "execution_count": null,
      "outputs": []
    },
    {
      "cell_type": "code",
      "metadata": {
        "colab": {
          "base_uri": "https://localhost:8080/"
        },
        "id": "N_bmRXEdLyfT",
        "outputId": "56b47a4e-ba0b-4665-abfa-48b21c4b4151"
      },
      "source": [
        "target"
      ],
      "execution_count": null,
      "outputs": [
        {
          "output_type": "execute_result",
          "data": {
            "text/plain": [
              "array([0, 0, 0, 0, 0, 0, 0, 0, 0, 0, 0, 0, 0, 0, 0, 0, 0, 0, 0, 0, 0, 0,\n",
              "       0, 0, 0, 0, 0, 0, 0, 0, 1, 1, 1, 1, 1, 1, 1, 1, 1, 1, 1, 1, 1, 1,\n",
              "       1, 1, 1, 1, 1, 1, 1, 1, 1, 1, 1, 1, 1, 1, 1, 1])"
            ]
          },
          "metadata": {
            "tags": []
          },
          "execution_count": 8
        }
      ]
    },
    {
      "cell_type": "code",
      "metadata": {
        "id": "GgB_J0QVL3Ay"
      },
      "source": [
        "unique,count = np.unique(target,return_counts=True)"
      ],
      "execution_count": null,
      "outputs": []
    },
    {
      "cell_type": "code",
      "metadata": {
        "colab": {
          "base_uri": "https://localhost:8080/"
        },
        "id": "Xl-9xP4CMAOU",
        "outputId": "1a8c61a4-70dd-43df-a7b6-c568d58ca829"
      },
      "source": [
        "count , unique"
      ],
      "execution_count": null,
      "outputs": [
        {
          "output_type": "execute_result",
          "data": {
            "text/plain": [
              "(array([30, 30]), array([0, 1]))"
            ]
          },
          "metadata": {
            "tags": []
          },
          "execution_count": 10
        }
      ]
    },
    {
      "cell_type": "code",
      "metadata": {
        "colab": {
          "base_uri": "https://localhost:8080/",
          "height": 282
        },
        "id": "wSL2j6s8MF92",
        "outputId": "72e9179d-38fa-4122-c1ea-22ac63e183c6"
      },
      "source": [
        "plt.bar(CATEGORIES,count)"
      ],
      "execution_count": null,
      "outputs": [
        {
          "output_type": "execute_result",
          "data": {
            "text/plain": [
              "<BarContainer object of 2 artists>"
            ]
          },
          "metadata": {
            "tags": []
          },
          "execution_count": 11
        },
        {
          "output_type": "display_data",
          "data": {
            "image/png": "[encoded data removed]",
            "text/plain": [
              "<Figure size 432x288 with 1 Axes>"
            ]
          },
          "metadata": {
            "tags": [],
            "needs_background": "light"
          }
        }
      ]
    },
    {
      "cell_type": "code",
      "metadata": {
        "id": "zRqypnNGMLyc"
      },
      "source": [
        "#spliting the data into testing and training data\n",
        "from sklearn.model_selection import train_test_split\n",
        "x_train, x_test, y_train, y_test = train_test_split(flat_data,target,test_size =0.4, random_state = 123)"
      ],
      "execution_count": null,
      "outputs": []
    },
    {
      "cell_type": "code",
      "metadata": {
        "colab": {
          "base_uri": "https://localhost:8080/"
        },
        "id": "i69Jd8j_MkLM",
        "outputId": "0c98c0be-6a3c-4d6e-ce12-18ee7eed6b38"
      },
      "source": [
        "y_test"
      ],
      "execution_count": null,
      "outputs": [
        {
          "output_type": "execute_result",
          "data": {
            "text/plain": [
              "array([0, 1, 0, 1, 1, 1, 0, 1, 1, 0, 0, 0, 1, 0, 0, 0, 0, 0, 1, 0, 0, 1,\n",
              "       1, 1])"
            ]
          },
          "metadata": {
            "tags": []
          },
          "execution_count": 13
        }
      ]
    },
    {
      "cell_type": "code",
      "metadata": {
        "id": "HWYokQ2zMmGX"
      },
      "source": [
        "#creating the model using GRIDSEARCHCVto get best parameter for SVClassifier\n",
        "from sklearn.model_selection import GridSearchCV\n",
        "from sklearn import svm\n",
        "\n",
        "param_grid = [\n",
        "              {'C':[1,10,100,1000],'kernel':['rbf']},\n",
        "              {'C':[1,10,100,1000],'kernel':['rbf'],'gamma':[0.1,0.01,0.001,0.0001,0.00001]},\n",
        "\n",
        "]\n",
        "svc = svm.SVC(probability=True)\n",
        "clf = GridSearchCV(svc,param_grid)"
      ],
      "execution_count": null,
      "outputs": []
    },
    {
      "cell_type": "code",
      "metadata": {
        "colab": {
          "base_uri": "https://localhost:8080/"
        },
        "id": "CwBDXWedNwJ4",
        "outputId": "02af25f3-3764-4984-8a8e-3bd3ce700c2d"
      },
      "source": [
        "#fitting the data\n",
        "clf.fit(x_train,y_train)"
      ],
      "execution_count": null,
      "outputs": [
        {
          "output_type": "execute_result",
          "data": {
            "text/plain": [
              "GridSearchCV(cv=None, error_score=nan,\n",
              "             estimator=SVC(C=1.0, break_ties=False, cache_size=200,\n",
              "                           class_weight=None, coef0=0.0,\n",
              "                           decision_function_shape='ovr', degree=3,\n",
              "                           gamma='scale', kernel='rbf', max_iter=-1,\n",
              "                           probability=True, random_state=None, shrinking=True,\n",
              "                           tol=0.001, verbose=False),\n",
              "             iid='deprecated', n_jobs=None,\n",
              "             param_grid=[{'C': [1, 10, 100, 1000], 'kernel': ['rbf']},\n",
              "                         {'C': [1, 10, 100, 1000],\n",
              "                          'gamma': [0.1, 0.01, 0.001, 0.0001, 1e-05],\n",
              "                          'kernel': ['rbf']}],\n",
              "             pre_dispatch='2*n_jobs', refit=True, return_train_score=False,\n",
              "             scoring=None, verbose=0)"
            ]
          },
          "metadata": {
            "tags": []
          },
          "execution_count": 12
        }
      ]
    },
    {
      "cell_type": "code",
      "metadata": {
        "colab": {
          "base_uri": "https://localhost:8080/"
        },
        "id": "mfDLNUNHOJCF",
        "outputId": "540cff4b-be20-408c-bd11-e9dff063f4a0"
      },
      "source": [
        "y_pred  =clf.predict(x_test)\n",
        "y_pred"
      ],
      "execution_count": null,
      "outputs": [
        {
          "output_type": "execute_result",
          "data": {
            "text/plain": [
              "array([0, 1, 0, 0, 1, 1, 0, 0, 0, 0, 0, 0, 1, 0, 0, 0, 0, 0, 1, 0, 0, 0,\n",
              "       0, 0])"
            ]
          },
          "metadata": {
            "tags": []
          },
          "execution_count": 13
        }
      ]
    },
    {
      "cell_type": "code",
      "metadata": {
        "colab": {
          "base_uri": "https://localhost:8080/"
        },
        "id": "ID1RtSfcOQnb",
        "outputId": "b4573a71-14a5-41e1-9d9e-f3e14aa11ffd"
      },
      "source": [
        "y_test"
      ],
      "execution_count": null,
      "outputs": [
        {
          "output_type": "execute_result",
          "data": {
            "text/plain": [
              "array([0, 1, 0, 1, 1, 1, 0, 1, 1, 0, 0, 0, 1, 0, 0, 0, 0, 0, 1, 0, 0, 1,\n",
              "       1, 1])"
            ]
          },
          "metadata": {
            "tags": []
          },
          "execution_count": 17
        }
      ]
    },
    {
      "cell_type": "code",
      "metadata": {
        "colab": {
          "base_uri": "https://localhost:8080/"
        },
        "id": "U2bYv3-sOVH4",
        "outputId": "ae664770-0baa-4051-e33f-35a7d95d5deb"
      },
      "source": [
        "#calculating accuracy score and confusion matrix\n",
        "from sklearn.metrics import accuracy_score, confusion_matrix\n",
        "s = (accuracy_score(y_pred,y_test))\n",
        "print(s)\n",
        "confusion_matrix(y_pred,y_test)"
      ],
      "execution_count": null,
      "outputs": [
        {
          "output_type": "stream",
          "text": [
            "0.75\n"
          ],
          "name": "stdout"
        },
        {
          "output_type": "execute_result",
          "data": {
            "text/plain": [
              "array([[13,  6],\n",
              "       [ 0,  5]])"
            ]
          },
          "metadata": {
            "tags": []
          },
          "execution_count": 14
        }
      ]
    },
    {
      "cell_type": "code",
      "metadata": {
        "colab": {
          "base_uri": "https://localhost:8080/"
        },
        "id": "i7LvM6F5OqtC",
        "outputId": "15134119-10a8-4d1d-9a86-b36841f33811"
      },
      "source": [
        "#creating model using XGBOOST\n",
        "from xgboost import XGBClassifier\n",
        "model = XGBClassifier()\n",
        "model.fit(x_train,y_train)\n"
      ],
      "execution_count": null,
      "outputs": [
        {
          "output_type": "execute_result",
          "data": {
            "text/plain": [
              "XGBClassifier(base_score=0.5, booster='gbtree', colsample_bylevel=1,\n",
              "              colsample_bynode=1, colsample_bytree=1, gamma=0,\n",
              "              learning_rate=0.1, max_delta_step=0, max_depth=3,\n",
              "              min_child_weight=1, missing=None, n_estimators=100, n_jobs=1,\n",
              "              nthread=None, objective='binary:logistic', random_state=0,\n",
              "              reg_alpha=0, reg_lambda=1, scale_pos_weight=1, seed=None,\n",
              "              silent=None, subsample=1, verbosity=1)"
            ]
          },
          "metadata": {
            "tags": []
          },
          "execution_count": 15
        }
      ]
    },
    {
      "cell_type": "code",
      "metadata": {
        "colab": {
          "base_uri": "https://localhost:8080/"
        },
        "id": "hj6wVTJ9PFnh",
        "outputId": "7d045ee9-f5d5-43da-c27e-9edaff98b55d"
      },
      "source": [
        "y_predict = model.predict(x_test)\n",
        "y_predict"
      ],
      "execution_count": null,
      "outputs": [
        {
          "output_type": "execute_result",
          "data": {
            "text/plain": [
              "array([1, 1, 0, 1, 1, 1, 0, 0, 0, 0, 0, 1, 1, 1, 1, 1, 0, 0, 1, 1, 1, 0,\n",
              "       0, 0])"
            ]
          },
          "metadata": {
            "tags": []
          },
          "execution_count": 16
        }
      ]
    },
    {
      "cell_type": "code",
      "metadata": {
        "colab": {
          "base_uri": "https://localhost:8080/"
        },
        "id": "ogCHOyQDPOTN",
        "outputId": "222536e7-4124-48a6-b930-5538c0f5b8fa"
      },
      "source": [
        "y_test"
      ],
      "execution_count": null,
      "outputs": [
        {
          "output_type": "execute_result",
          "data": {
            "text/plain": [
              "array([0, 1, 0, 1, 1, 1, 0, 1, 1, 0, 0, 0, 1, 0, 0, 0, 0, 0, 1, 0, 0, 1,\n",
              "       1, 1])"
            ]
          },
          "metadata": {
            "tags": []
          },
          "execution_count": 17
        }
      ]
    },
    {
      "cell_type": "code",
      "metadata": {
        "id": "JPkfW_6PPQdB",
        "colab": {
          "base_uri": "https://localhost:8080/"
        },
        "outputId": "078b3107-d499-4112-a248-caed3d5e88f6"
      },
      "source": [
        "x = accuracy_score(y_predict,y_test)\n",
        "x"
      ],
      "execution_count": null,
      "outputs": [
        {
          "output_type": "execute_result",
          "data": {
            "text/plain": [
              "0.5"
            ]
          },
          "metadata": {
            "tags": []
          },
          "execution_count": 18
        }
      ]
    },
    {
      "cell_type": "code",
      "metadata": {
        "colab": {
          "base_uri": "https://localhost:8080/"
        },
        "id": "COvxohC0PcV5",
        "outputId": "40360103-a2ec-4483-b24a-a665b243fe23"
      },
      "source": [
        "confusion_matrix(y_predict,y_test)\n"
      ],
      "execution_count": null,
      "outputs": [
        {
          "output_type": "execute_result",
          "data": {
            "text/plain": [
              "array([[6, 5],\n",
              "       [7, 6]])"
            ]
          },
          "metadata": {
            "tags": []
          },
          "execution_count": 19
        }
      ]
    },
    {
      "cell_type": "code",
      "metadata": {
        "id": "vVmE9xPwTO7C"
      },
      "source": [
        "#pickle is use to save the model in directory for further use \n",
        "import pickle\n",
        "if x>s:\n",
        "  pickle.dump(model,open('img_model.p','wb'))\n",
        "else:\n",
        "  pickle.dump(clf,open('img_model.p','wb'))"
      ],
      "execution_count": null,
      "outputs": []
    },
    {
      "cell_type": "code",
      "metadata": {
        "id": "ewSVSFM6P3W8"
      },
      "source": [
        "#loading model from directory\n",
        "model1 =pickle.load(open('img_model.p','rb'))"
      ],
      "execution_count": null,
      "outputs": []
    },
    {
      "cell_type": "code",
      "metadata": {
        "colab": {
          "base_uri": "https://localhost:8080/",
          "height": 320
        },
        "id": "ZbyINs4AQEXP",
        "outputId": "60391484-933a-425e-c7ce-9a22c7c03fed"
      },
      "source": [
        "#testing the brand new Image\n",
        "flat_data = []\n",
        "url = input(\"Enter URL\")\n",
        "img = imread(url)\n",
        "img_resized = resize(img,(150,150,3))\n",
        "flat_data.append(img_resized.flatten())\n",
        "flat_data  =np.array(flat_data)\n",
        "print(img.shape)\n",
        "\n",
        "plt.imshow(img_resized)\n",
        "y_out = model1.predict(flat_data)\n",
        "y_out = CATEGORIES[y_out[0]]\n",
        "print(f'The image is much similar to : {y_out}')"
      ],
      "execution_count": null,
      "outputs": [
        {
          "output_type": "stream",
          "text": [
            "Enter URLhttps://site-547756.mozfiles.com/files/547756/catitems/Jaguar-b6a077f108c598a8d1ebb2dc9b3bdf99.jpg\n",
            "(800, 1200, 3)\n",
            "The image is much similar to : Cat\n"
          ],
          "name": "stdout"
        },
        {
          "output_type": "display_data",
          "data": {
            "image/png": "[encoded data removed]",
            "text/plain": [
              "<Figure size 432x288 with 1 Axes>"
            ]
          },
          "metadata": {
            "tags": [],
            "needs_background": "light"
          }
        }
      ]
    }
  ]
}